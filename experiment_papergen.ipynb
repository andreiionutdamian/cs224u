{
 "cells": [
  {
   "cell_type": "code",
   "execution_count": 1,
   "metadata": {
    "scrolled": false
   },
   "outputs": [
    {
     "name": "stderr",
     "output_type": "stream",
     "text": [
      "[NbConvertApp] Converting notebook experiment.ipynb to latex\n",
      "[NbConvertApp] Support files will be in experiment_files\\\n",
      "[NbConvertApp] Making directory experiment_files\n",
      "[NbConvertApp] Making directory experiment_files\n",
      "[NbConvertApp] Writing 92469 bytes to experiment.tex\n"
     ]
    },
    {
     "name": "stdout",
     "output_type": "stream",
     "text": [
      "This is BibTeX, Version 0.99d (MiKTeX 2.9.6730)\n",
      "The top-level auxiliary file: experiment.aux\n",
      "The style file: unsrt.bst\n",
      "Database file #1: jupyter.bib\n"
     ]
    }
   ],
   "source": [
    "!jupyter nbconvert experiment.ipynb --to latex --template citations.tplx  \n",
    "!pdflatex --quiet experiment.tex\n",
    "!bibtex experiment\n",
    "!pdflatex --quiet experiment.tex\n",
    "!pdflatex --quiet experiment.tex\n",
    "!pdflatex --quiet experiment.tex"
   ]
  },
  {
   "cell_type": "code",
   "execution_count": null,
   "metadata": {},
   "outputs": [],
   "source": []
  }
 ],
 "metadata": {
  "kernelspec": {
   "display_name": "Python 3",
   "language": "python",
   "name": "python3"
  },
  "language_info": {
   "codemirror_mode": {
    "name": "ipython",
    "version": 3
   },
   "file_extension": ".py",
   "mimetype": "text/x-python",
   "name": "python",
   "nbconvert_exporter": "python",
   "pygments_lexer": "ipython3",
   "version": "3.7.4"
  }
 },
 "nbformat": 4,
 "nbformat_minor": 4
}
