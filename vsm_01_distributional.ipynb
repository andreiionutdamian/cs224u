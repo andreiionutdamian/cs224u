{
 "cells": [
  {
   "cell_type": "markdown",
   "metadata": {
    "slideshow": {
     "slide_type": "slide"
    }
   },
   "source": [
    "# Vector-space models: designs, distances, basic reweighting"
   ]
  },
  {
   "cell_type": "code",
   "execution_count": 1,
   "metadata": {},
   "outputs": [],
   "source": [
    "__author__ = \"Christopher Potts\"\n",
    "__version__ = \"CS224u, Stanford, Spring 2020\""
   ]
  },
  {
   "cell_type": "markdown",
   "metadata": {
    "slideshow": {
     "slide_type": "slide"
    }
   },
   "source": [
    "## Contents\n",
    "\n",
    "1. [Overview](#Overview)\n",
    "1. [Motivation](#Motivation)\n",
    "1. [Terminological notes](#Terminological-notes)\n",
    "1. [Set-up](#Set-up)\n",
    "1. [Matrix designs](#Matrix-designs)\n",
    "1. [Pre-computed example matrices](#Pre-computed-example-matrices)\n",
    "1. [Vector comparison](#Vector-comparison)\n",
    "  1. [Euclidean](#Euclidean)\n",
    "  1. [Length normalization](#Length-normalization)\n",
    "  1. [Cosine distance](#Cosine-distance)\n",
    "  1. [Matching-based methods](#Matching-based-methods)\n",
    "  1. [Summary](#Summary)\n",
    "1. [Distributional neighbors](#Distributional-neighbors)\n",
    "1. [Matrix reweighting](#Matrix-reweighting)\n",
    "  1. [Normalization](#Normalization)\n",
    "  1. [Observed/Expected](#Observed/Expected)\n",
    "  1. [Pointwise Mutual Information](#Pointwise-Mutual-Information)\n",
    "  1. [TF-IDF](#TF-IDF)\n",
    "1. [Subword information](#Subword-information)\n",
    "1. [Visualization](#Visualization)\n",
    "1. [Exploratory exercises](#Exploratory-exercises)"
   ]
  },
  {
   "cell_type": "markdown",
   "metadata": {
    "collapsed": true,
    "slideshow": {
     "slide_type": "slide"
    }
   },
   "source": [
    "## Overview\n",
    "\n",
    "This notebook is the first in our series about creating effective __distributed representations__. The focus is on matrix designs, assessing similarity, and methods for matrix reweighting.\n",
    "\n",
    "The central idea (which takes some getting used to!) is that we can represent words and phrases as dense vectors of real numbers. These take on meaning by being __embedded__ in a larger matrix of representations with comparable structure."
   ]
  },
  {
   "cell_type": "markdown",
   "metadata": {
    "slideshow": {
     "slide_type": "slide"
    }
   },
   "source": [
    "## Motivation\n",
    "\n",
    "Why build distributed representations? There are potentially many reasons. The two we will emphasize in this course:\n",
    "\n",
    "1. __Understanding words in context__: There is value to linguists in seeing what these data-rich approaches can teach us about natural language lexicons, and there is value for social scientists in understanding how words are being used.\n",
    "\n",
    "1. __Feature representations for other models__: As we will see, many models can benefit from representing examples as distributed representations."
   ]
  },
  {
   "cell_type": "markdown",
   "metadata": {
    "slideshow": {
     "slide_type": "slide"
    }
   },
   "source": [
    "## Terminological notes"
   ]
  },
  {
   "cell_type": "markdown",
   "metadata": {
    "collapsed": true
   },
   "source": [
    "* The distributed representations we build will always be vectors of real numbers. The models are often called __vector space models__ (VSMs).\n",
    "\n",
    "* __Distributional representations__ are the special case where the data come entirely from co-occurrence counts in corpora. \n",
    "\n",
    "* We'll look at models that use supervised labels to obtain vector-based word representations. These aren't purely distributional, in that they take advantage of more than just co-occurrence patterns among items in the vocabulary, but they share the idea that words can be modeled with vectors.\n",
    "\n",
    "* If a neural network is used to train the representations, then they might be called __neural representations__.\n",
    "\n",
    "* The term __word embedding__ is also used for distributed representations, including distributional ones. This term is a reminder that vector representations are meaningful only when embedded in and compared with others in a unified space (usually a matrix) of representations of the same type.\n",
    "\n",
    "* In any case, __distributed representation__ seems like the most general cover term for what we're trying to achieve, and its only downside is that sometimes people think it has something to do with distributed databases."
   ]
  },
  {
   "cell_type": "markdown",
   "metadata": {
    "slideshow": {
     "slide_type": "slide"
    }
   },
   "source": [
    "## Set-up\n",
    "\n",
    "* Make sure your environment meets all the requirements for [the cs224u repository](https://github.com/cgpotts/cs224u/). For help getting set-up, see [setup.ipynb](setup.ipynb).\n",
    "\n",
    "* Download [the course data](http://web.stanford.edu/class/cs224u/data/data.tgz), unpack it, and place it in the directory containing the course repository – the same directory as this notebook. (If you want to put it somewhere else, change `DATA_HOME` below.)"
   ]
  },
  {
   "cell_type": "code",
   "execution_count": 2,
   "metadata": {},
   "outputs": [],
   "source": [
    "%matplotlib inline\n",
    "import numpy as np\n",
    "import os\n",
    "import pandas as pd\n",
    "import vsm"
   ]
  },
  {
   "cell_type": "code",
   "execution_count": 3,
   "metadata": {},
   "outputs": [],
   "source": [
    "DATA_HOME = os.path.join('data', 'vsmdata')"
   ]
  },
  {
   "cell_type": "markdown",
   "metadata": {
    "slideshow": {
     "slide_type": "slide"
    }
   },
   "source": [
    "## Matrix designs\n",
    "\n",
    "There are many, many ways to define distributional matrices. Here's a schematic overview that highlights the major decisions for building a word $\\times$ word matrix:\n",
    "\n",
    "1. Define a notion of __co-occurrence context__. This could be an entire document, a paragraph, a sentence, a clause, an NP — whatever domain seems likely to capture the associations you care about.\n",
    "\n",
    "1. Define a __count scaling method__. The simplest method just counts everything in the context window, giving equal weight to everything inside it. A common alternative is to scale the weights based on proximity to the target word – e.g., $1/d$, where $d$ is the distance in tokens from the target.\n",
    "\n",
    "1. Scan through your corpus building a dictionary $d$ mapping word-pairs to co-occurrence values. Every time a pair of words $w$ and $w'$ occurs in the same context (as you defined it in 1), increment $d[(w, w')]$ by whatever value is determined by your weighting scheme. You'd increment by $1$ with the weighting scheme that simply counts co-occurrences.\n",
    "\n",
    "1. Using the count dictionary $d$ that you collected in 3, establish your full vocabulary $V$, an ordered list of words types. \n",
    "    1. For large collections of documents, $|V|$ will typically be huge. You will probably want to winnow the vocabulary at this point. \n",
    "    1. You might do this by filtering to a specific subset, or just imposing a minimum count threshold. \n",
    "    1. You might impose a minimum count threshold even if $|V|$ is small — for words with very low counts, you simply don't have enough evidence to support good representations.\n",
    "    1. For words outside the vocabulary you choose, you could ignore them entirely or accumulate all their values into a designated _UNK_ vector.\n",
    "\n",
    "1. Now build a matrix $M$ of dimension $|V| \\times |V|$. Both the rows and the columns of $M$ represent words. Each cell $M[i, j]$ is filled with the value $d[(w_{1}, w_{j})]$."
   ]
  },
  {
   "cell_type": "markdown",
   "metadata": {
    "slideshow": {
     "slide_type": "slide"
    }
   },
   "source": [
    "## Pre-computed example matrices\n",
    "\n",
    "The data distribution includes four matrices that we'll use for hands-on exploration. All of them were designed in the same basic way:\n",
    "\n",
    "* They are word $\\times$ word matrices with 5K rows and 5K columns. \n",
    "\n",
    "* The vocabulary is the top 5K most frequent unigrams.\n",
    "\n",
    "Two come from IMDB user-supplied movie reviews, and two come from Gigaword, a collection of newswire and newspaper text. Further details:\n",
    "\n",
    "|filename | source | window size| count weighting |\n",
    "|---------|--------|------------|-----------------|\n",
    "|imdb_window5-scaled.csv.gz | IMDB movie reviews | 5| 1/d |\n",
    "|imdb_window20-flat.csv.gz | IMDB movie reviews | 20| 1 |\n",
    "|gigaword_window5-scaled.csv.gz | Gigaword | 5 | 1/d |\n",
    "|gigaword_window20-flat.csv.gz | Gigaword | 20 | 1 |\n",
    "\n",
    "Any hunches about how these matrices might differ from each other?"
   ]
  },
  {
   "cell_type": "code",
   "execution_count": 4,
   "metadata": {},
   "outputs": [],
   "source": [
    "imdb5 = pd.read_csv(\n",
    "    os.path.join(DATA_HOME, 'imdb_window5-scaled.csv.gz'), index_col=0)"
   ]
  },
  {
   "cell_type": "code",
   "execution_count": 5,
   "metadata": {},
   "outputs": [],
   "source": [
    "imdb20 = pd.read_csv(\n",
    "    os.path.join(DATA_HOME, 'imdb_window20-flat.csv.gz'), index_col=0)"
   ]
  },
  {
   "cell_type": "code",
   "execution_count": 6,
   "metadata": {},
   "outputs": [],
   "source": [
    "giga5 = pd.read_csv(\n",
    "    os.path.join(DATA_HOME, 'giga_window5-scaled.csv.gz'), index_col=0)"
   ]
  },
  {
   "cell_type": "code",
   "execution_count": 7,
   "metadata": {},
   "outputs": [],
   "source": [
    "giga20 = pd.read_csv(\n",
    "    os.path.join(DATA_HOME, 'giga_window20-flat.csv.gz'), index_col=0)"
   ]
  },
  {
   "cell_type": "markdown",
   "metadata": {
    "slideshow": {
     "slide_type": "slide"
    }
   },
   "source": [
    "## Vector comparison\n",
    "\n",
    "Vector comparisons form the heart of our analyses in this context. \n",
    "\n",
    "* For the most part, we are interested in measuring the __distance__ between vectors. The guiding idea is that semantically related words should be close together in the vector spaces we build, and semantically unrelated words should be far apart.\n",
    "\n",
    "* The [scipy.spatial.distance](http://docs.scipy.org/doc/scipy-0.14.0/reference/spatial.distance.html) module has a lot of vector comparison methods, so you might check them out if you want to go beyond the functions defined and explored here. Read the documentation closely, though: many of those methods are defined only for binary vectors, whereas the VSMs we'll use allow all float values."
   ]
  },
  {
   "cell_type": "markdown",
   "metadata": {
    "slideshow": {
     "slide_type": "slide"
    }
   },
   "source": [
    "### Euclidean\n",
    "\n",
    "The most basic and intuitive distance measure between vectors is __euclidean distance__. The euclidean distance between two vectors $u$ and $v$ of dimension $n$ is\n",
    "\n",
    "$$\\textbf{euclidean}(u, v) = \n",
    "\\sqrt{\\sum_{i=1}^{n}|u_{i} - v_{i}|^{2}}$$\n",
    "\n",
    "In two-dimensions, this corresponds to the length of the most direct line between the two points.\n",
    "\n",
    "In `vsm.py`, the function `euclidean` just uses the corresponding [scipy.spatial.distance](https://docs.scipy.org/doc/scipy/reference/spatial.distance.html) method to define it."
   ]
  },
  {
   "cell_type": "markdown",
   "metadata": {
    "slideshow": {
     "slide_type": "slide"
    }
   },
   "source": [
    "Here's the tiny vector space from the screencast on vector comparisons associated with this notebook:"
   ]
  },
  {
   "cell_type": "code",
   "execution_count": 8,
   "metadata": {},
   "outputs": [],
   "source": [
    "ABC = pd.DataFrame([\n",
    "    [ 2.0,  4.0], \n",
    "    [10.0, 15.0], \n",
    "    [14.0, 10.0]],\n",
    "    index=['A', 'B', 'C'],\n",
    "    columns=['x', 'y'])    "
   ]
  },
  {
   "cell_type": "code",
   "execution_count": 9,
   "metadata": {},
   "outputs": [
    {
     "data": {
      "text/html": [
       "<div>\n",
       "<style scoped>\n",
       "    .dataframe tbody tr th:only-of-type {\n",
       "        vertical-align: middle;\n",
       "    }\n",
       "\n",
       "    .dataframe tbody tr th {\n",
       "        vertical-align: top;\n",
       "    }\n",
       "\n",
       "    .dataframe thead th {\n",
       "        text-align: right;\n",
       "    }\n",
       "</style>\n",
       "<table border=\"1\" class=\"dataframe\">\n",
       "  <thead>\n",
       "    <tr style=\"text-align: right;\">\n",
       "      <th></th>\n",
       "      <th>x</th>\n",
       "      <th>y</th>\n",
       "    </tr>\n",
       "  </thead>\n",
       "  <tbody>\n",
       "    <tr>\n",
       "      <th>A</th>\n",
       "      <td>2.0</td>\n",
       "      <td>4.0</td>\n",
       "    </tr>\n",
       "    <tr>\n",
       "      <th>B</th>\n",
       "      <td>10.0</td>\n",
       "      <td>15.0</td>\n",
       "    </tr>\n",
       "    <tr>\n",
       "      <th>C</th>\n",
       "      <td>14.0</td>\n",
       "      <td>10.0</td>\n",
       "    </tr>\n",
       "  </tbody>\n",
       "</table>\n",
       "</div>"
      ],
      "text/plain": [
       "      x     y\n",
       "A   2.0   4.0\n",
       "B  10.0  15.0\n",
       "C  14.0  10.0"
      ]
     },
     "execution_count": 9,
     "metadata": {},
     "output_type": "execute_result"
    }
   ],
   "source": [
    "ABC"
   ]
  },
  {
   "cell_type": "code",
   "execution_count": 10,
   "metadata": {},
   "outputs": [],
   "source": [
    "def plot_ABC(df):\n",
    "    ax = df.plot.scatter(x='x', y='y', marker='.', legend=False)\n",
    "    m = df.values.max(axis=None)\n",
    "    ax.set_xlim([0, m*1.2])\n",
    "    ax.set_ylim([0, m*1.2])\n",
    "    for label, row in df.iterrows():\n",
    "        ax.text(row['x'], row['y'], label)"
   ]
  },
  {
   "cell_type": "code",
   "execution_count": 11,
   "metadata": {},
   "outputs": [
    {
     "data": {
      "image/png": "[encoded data removed]",
      "text/plain": [
       "<Figure size 432x288 with 1 Axes>"
      ]
     },
     "metadata": {
      "needs_background": "light"
     },
     "output_type": "display_data"
    }
   ],
   "source": [
    "plot_ABC(ABC)"
   ]
  },
  {
   "cell_type": "markdown",
   "metadata": {},
   "source": [
    "The euclidean distances align well with raw visual distance in the plot:"
   ]
  },
  {
   "cell_type": "code",
   "execution_count": 12,
   "metadata": {},
   "outputs": [],
   "source": [
    "def abc_comparisons(df, distfunc):\n",
    "    for a, b in (('A', 'B'), ('B', 'C')):\n",
    "        dist = distfunc(df.loc[a], df.loc[b])\n",
    "        print('{0:}({1:}, {2:}) = {3:7.02f}'.format(\n",
    "            distfunc.__name__, a, b, dist))"
   ]
  },
  {
   "cell_type": "code",
   "execution_count": 14,
   "metadata": {},
   "outputs": [
    {
     "name": "stdout",
     "output_type": "stream",
     "text": [
      "euclidean(A, B) =   13.60\n",
      "euclidean(B, C) =    6.40\n"
     ]
    }
   ],
   "source": [
    "abc_comparisons(ABC, vsm.euclidean)"
   ]
  },
  {
   "cell_type": "markdown",
   "metadata": {},
   "source": [
    "However, suppose we think of the vectors as word meanings in the vector-space sense. In that case, the values don't look good: \n",
    "\n",
    "* The distributions of B and C are more or less directly opposed, suggesting very different meanings, whereas A and B are rather closely aligned, abstracting away from the fact that the first is far less frequent than the second. \n",
    "\n",
    "* In terms of the large models we will soon explore, A and B resemble a pair like _superb_ and _good_, which have similar meanings but very different frequencies. \n",
    "\n",
    "* In contrast, B and C are like _good_ and _disappointing_ — similar overall frequencies but different distributions with respect to the overall vocabulary."
   ]
  },
  {
   "cell_type": "markdown",
   "metadata": {
    "slideshow": {
     "slide_type": "slide"
    }
   },
   "source": [
    "### Length normalization\n",
    "\n",
    "These affinities are immediately apparent if we __normalize the vectors by their length__. To do this, we first define the L2-length of a vector:\n",
    "\n",
    "$$\\|u\\|_{2} = \\sqrt{\\sum_{i=1}^{n} u_{i}^{2}}$$\n",
    "\n",
    "And then the normalization step just divides each value by this quantity:\n",
    "\n",
    "$$\\left[ \n",
    "  \\frac{u_{1}}{\\|u\\|_{2}}, \n",
    "  \\frac{u_{2}}{\\|u\\|_{2}}, \n",
    "  \\ldots \n",
    "  \\frac{u_{n}}{\\|u\\|_{2}} \n",
    " \\right]$$"
   ]
  },
  {
   "cell_type": "code",
   "execution_count": 15,
   "metadata": {},
   "outputs": [],
   "source": [
    "ABC_normed = ABC.apply(vsm.length_norm, axis=1)"
   ]
  },
  {
   "cell_type": "code",
   "execution_count": 16,
   "metadata": {},
   "outputs": [
    {
     "data": {
      "image/png": "[encoded data removed]",
      "text/plain": [
       "<Figure size 432x288 with 1 Axes>"
      ]
     },
     "metadata": {
      "needs_background": "light"
     },
     "output_type": "display_data"
    }
   ],
   "source": [
    "plot_ABC(ABC_normed)    "
   ]
  },
  {
   "cell_type": "code",
   "execution_count": 17,
   "metadata": {},
   "outputs": [
    {
     "name": "stdout",
     "output_type": "stream",
     "text": [
      "euclidean(A, B) =    0.12\n",
      "euclidean(B, C) =    0.36\n"
     ]
    }
   ],
   "source": [
    "abc_comparisons(ABC_normed, vsm.euclidean)"
   ]
  },
  {
   "cell_type": "markdown",
   "metadata": {},
   "source": [
    "Here, the connection between A and B is more apparent, as is the opposition between B and C."
   ]
  },
  {
   "cell_type": "markdown",
   "metadata": {
    "slideshow": {
     "slide_type": "slide"
    }
   },
   "source": [
    "### Cosine distance\n",
    "\n",
    "Cosine distance takes overall length into account. The cosine distance between two vectors $u$ and $v$ of dimension $n$ is\n",
    "\n",
    "$$\\textbf{cosine}(u, v) = \n",
    "1 - \\frac{\\sum_{i=1}^{n} u_{i} \\cdot v_{i}}{\\|u\\|_{2} \\cdot \\|v\\|_{2}}$$\n",
    "\n",
    "The similarity part of this (the righthand term of the subtraction) is actually measuring the angles between the two vectors. The result is the same (in terms of rank order) as one gets from first normalizing both vectors using $\\|\\cdot\\|_{2}$ and then calculating their Euclidean distance."
   ]
  },
  {
   "cell_type": "code",
   "execution_count": 18,
   "metadata": {},
   "outputs": [
    {
     "name": "stdout",
     "output_type": "stream",
     "text": [
      "cosine(A, B) =    0.01\n",
      "cosine(B, C) =    0.07\n"
     ]
    }
   ],
   "source": [
    "abc_comparisons(ABC, vsm.cosine)"
   ]
  },
  {
   "cell_type": "markdown",
   "metadata": {},
   "source": [
    "So, in building in the length normalization, cosine distance achieves our goal of associating A and B and separating both from C."
   ]
  },
  {
   "cell_type": "markdown",
   "metadata": {
    "slideshow": {
     "slide_type": "slide"
    }
   },
   "source": [
    "### Matching-based methods\n",
    "\n",
    "Matching-based methods are also common in the literature. The basic matching measure effectively creates a vector consisting of all of the smaller of the two values at each coordinate, and then sums them:\n",
    "\n",
    "$$\\textbf{matching}(u, v) = \\sum_{i=1}^{n} \\min(u_{i}, v_{i})$$\n",
    "\n",
    "This is implemented in `vsm` as `matching`.\n",
    "\n",
    "One approach to normalizing the matching values is the [__Jaccard coefficient__](https://en.wikipedia.org/wiki/Jaccard_index). The numerator is the matching coefficient. The denominator — the normalizer — is intuitively like the set union: for binary vectors, it gives the cardinality of the union of the two being compared:\n",
    "\n",
    "$$\\textbf{jaccard}(u, v) = \n",
    "1 - \\frac{\\textbf{matching}(u, v)}{\\sum_{i=1}^{n} \\max(u_{i}, v_{i})}$$"
   ]
  },
  {
   "cell_type": "markdown",
   "metadata": {
    "slideshow": {
     "slide_type": "slide"
    }
   },
   "source": [
    "### Summary\n",
    "\n",
    "Suppose we set for ourselves the goal of associating A with B and disassociating B from C, in keeping with the semantic intuition expressed above. Then we can assess distance measures by whether they achieve this goal:"
   ]
  },
  {
   "cell_type": "code",
   "execution_count": 19,
   "metadata": {},
   "outputs": [
    {
     "name": "stdout",
     "output_type": "stream",
     "text": [
      "      euclidean(A, B) = 13.60       euclidean(B, C) =  6.40\n",
      "         cosine(A, B) =  0.01          cosine(B, C) =  0.07\n",
      "        jaccard(A, B) =  0.76         jaccard(B, C) =  0.31\n"
     ]
    }
   ],
   "source": [
    "for m in (vsm.euclidean, vsm.cosine, vsm.jaccard):\n",
    "    fmt = {\n",
    "        'n': m.__name__,  \n",
    "        'AB': m(ABC.loc['A'], ABC.loc['B']), \n",
    "        'BC': m(ABC.loc['B'], ABC.loc['C'])}\n",
    "    print('{n:>15}(A, B) = {AB:5.2f} {n:>15}(B, C) = {BC:5.2f}'.format(**fmt))"
   ]
  },
  {
   "cell_type": "markdown",
   "metadata": {
    "slideshow": {
     "slide_type": "slide"
    }
   },
   "source": [
    "## Distributional neighbors\n",
    "\n",
    "The `neighbors` function in `vsm` is an investigative aide. For a given word `w`, it ranks all the words in the vocabulary according to their distance from `w`, as measured by `distfunc` (default: `vsm.cosine`).\n",
    "\n",
    "By playing around with this function, you can start to get a sense for how the distance functions differ. Here are some example uses; you might try some new words to get a feel for what these matrices are like and how different words look."
   ]
  },
  {
   "cell_type": "code",
   "execution_count": 21,
   "metadata": {},
   "outputs": [
    {
     "data": {
      "text/plain": [
       "A     0.000000\n",
       "C    13.416408\n",
       "B    13.601471\n",
       "dtype: float64"
      ]
     },
     "execution_count": 21,
     "metadata": {},
     "output_type": "execute_result"
    }
   ],
   "source": [
    "vsm.neighbors('A', ABC, distfunc=vsm.euclidean)"
   ]
  },
  {
   "cell_type": "code",
   "execution_count": 22,
   "metadata": {},
   "outputs": [
    {
     "data": {
      "text/plain": [
       "A    0.000000\n",
       "B    0.007722\n",
       "C    0.116212\n",
       "dtype: float64"
      ]
     },
     "execution_count": 22,
     "metadata": {},
     "output_type": "execute_result"
    }
   ],
   "source": [
    "vsm.neighbors('A', ABC, distfunc=vsm.cosine)"
   ]
  },
  {
   "cell_type": "code",
   "execution_count": 23,
   "metadata": {},
   "outputs": [
    {
     "data": {
      "text/plain": [
       "good      0.000000e+00\n",
       "job       1.191396e+06\n",
       "pretty    1.192212e+06\n",
       "e         1.194603e+06\n",
       "guys      1.194643e+06\n",
       "dtype: float64"
      ]
     },
     "execution_count": 23,
     "metadata": {},
     "output_type": "execute_result"
    }
   ],
   "source": [
    "vsm.neighbors('good', imdb5, distfunc=vsm.euclidean).head()"
   ]
  },
  {
   "cell_type": "code",
   "execution_count": 33,
   "metadata": {},
   "outputs": [
    {
     "name": "stdout",
     "output_type": "stream",
     "text": [
      "               ages  aggravate  aggression      ago   agony\n",
      "ages        18755.0        0.0         2.0    396.0     2.0\n",
      "aggravate       0.0      130.0         0.0      0.0     0.0\n",
      "aggression      2.0        0.0      1549.0      2.0     1.0\n",
      "ago           396.0        0.0         2.0  71259.0    10.0\n",
      "agony           2.0        0.0         1.0     10.0  3087.0\n"
     ]
    },
    {
     "data": {
      "text/plain": [
       "good      0.000000e+00\n",
       "really    1.709370e+06\n",
       "great     1.746426e+06\n",
       "well      1.757869e+06\n",
       "story     1.760839e+06\n",
       "dtype: float64"
      ]
     },
     "execution_count": 33,
     "metadata": {},
     "output_type": "execute_result"
    }
   ],
   "source": [
    "print(imdb20.iloc[100:105,100:105])\n",
    "vsm.neighbors('good', imdb20, distfunc=vsm.euclidean).head()"
   ]
  },
  {
   "cell_type": "code",
   "execution_count": 25,
   "metadata": {},
   "outputs": [
    {
     "data": {
      "text/plain": [
       "good       0.000000\n",
       "measure    0.819398\n",
       ".          0.843800\n",
       "luck       0.863481\n",
       "pretty     0.868561\n",
       "dtype: float64"
      ]
     },
     "execution_count": 25,
     "metadata": {},
     "output_type": "execute_result"
    }
   ],
   "source": [
    "vsm.neighbors('good', imdb5, distfunc=vsm.cosine).head()"
   ]
  },
  {
   "cell_type": "code",
   "execution_count": 26,
   "metadata": {},
   "outputs": [
    {
     "data": {
      "text/plain": [
       "good       0.000000\n",
       ".          0.133102\n",
       "pretty     0.183657\n",
       "acting     0.185801\n",
       "measure    0.192544\n",
       "dtype: float64"
      ]
     },
     "execution_count": 26,
     "metadata": {},
     "output_type": "execute_result"
    }
   ],
   "source": [
    "vsm.neighbors('good', imdb20, distfunc=vsm.cosine).head()"
   ]
  },
  {
   "cell_type": "code",
   "execution_count": 34,
   "metadata": {},
   "outputs": [
    {
     "data": {
      "text/plain": [
       "good      0.000000\n",
       ".         0.102634\n",
       "</p>      0.127549\n",
       "<p>       0.130171\n",
       "pretty    0.130454\n",
       "dtype: float64"
      ]
     },
     "execution_count": 34,
     "metadata": {},
     "output_type": "execute_result"
    }
   ],
   "source": [
    "vsm.neighbors('good', giga20, distfunc=vsm.cosine).head()"
   ]
  },
  {
   "cell_type": "markdown",
   "metadata": {
    "slideshow": {
     "slide_type": "slide"
    }
   },
   "source": [
    "## Matrix reweighting\n",
    "\n",
    "* The goal of reweighting is to amplify the important, trustworthy, and unusual, while deemphasizing the mundane and the quirky. \n",
    "\n",
    "* Absent a defined objective function, this will remain fuzzy, but the intuition behind moving away from raw counts is that frequency is a poor proxy for our target semantic ideas."
   ]
  },
  {
   "cell_type": "markdown",
   "metadata": {
    "slideshow": {
     "slide_type": "slide"
    }
   },
   "source": [
    "### Normalization\n",
    "\n",
    "Normalization (row-wise or column-wise) is perhaps the simplest form of reweighting. With `vsm.length_norm`, we normalize using `vsm.vector_length`. We can also normalize each row by the sum of its values, which turns each row into a probability distribution over the columns:\n",
    "\n",
    "$$\\left[ \n",
    "  \\frac{u_{1}}{\\sum_{i=1}^{n}u_{i}}, \n",
    "  \\frac{u_{2}}{\\sum_{i=1}^{n}u_{i}}, \n",
    "  \\ldots\n",
    "  \\frac{u_{n}}{\\sum_{i=1}^{n}u_{i}}, \n",
    "\\right]$$\n",
    "\n",
    "These normalization measures are __insensitive to the magnitude of the underlying counts__. This is often a mistake in the messy world of large data sets; $[1,10]$ and $[1000,10000]$ are very different vectors in ways that will be partly or totally obscured by normalization."
   ]
  },
  {
   "cell_type": "markdown",
   "metadata": {
    "slideshow": {
     "slide_type": "slide"
    }
   },
   "source": [
    "### Observed/Expected\n",
    "\n",
    "Reweighting by observed-over-expected values captures one of the central patterns in all of VSMs: we can adjust the actual cell value in a co-occurrence matrix using information from the corresponding row and column. \n",
    "\n",
    "In the case of observed-over-expected, the rows and columns define our expectation about what the cell value would be if the two co-occurring words were independent. In dividing the observed count by this value, we amplify cells whose values are larger than we would expect.\n",
    "\n",
    "So that this doesn't look more complex than it is, for an $m \\times n$ matrix $X$, define\n",
    "\n",
    "$$\\textbf{rowsum}(X, i) = \\sum_{j=1}^{n}X_{ij}$$\n",
    "\n",
    "$$\\textbf{colsum}(X, j) = \\sum_{i=1}^{m}X_{ij}$$\n",
    "\n",
    "$$\\textbf{sum}(X) = \\sum_{i=1}^{m}\\sum_{j=1}^{n} X_{ij}$$\n",
    "\n",
    "$$\\textbf{expected}(X, i, j) = \n",
    "\\frac{\n",
    "  \\textbf{rowsum}(X, i) \\cdot \\textbf{colsum}(X, j)\n",
    "}{\n",
    "  \\textbf{sum}(X)\n",
    "}$$\n",
    "\n",
    "\n",
    "Then the observed-over-expected value is\n",
    "\n",
    "$$\\textbf{oe}(X, i, j) = \\frac{X_{ij}}{\\textbf{expected}(X, i, j)}$$\n",
    "\n",
    "In many contexts, it is more intuitive to first normalize the count matrix into a joint probability table and then think of $\\textbf{rowsum}$ and $\\textbf{colsum}$ as probabilities. Then it is clear that we are comparing the observed joint probability with what we would expect it to be under a null hypothesis of independence. These normalizations do not affect the final results, though.\n",
    "\n",
    "Let's do a quick worked-out example. Suppose we have the count matrix $X$ = \n",
    "\n",
    "|    .     | a  | b  | rowsum |\n",
    "|----------|----|----|-------|\n",
    "| __x__    | 34 | 11 |  45   |\n",
    "| __y__    | 47 | 7  |  54   |\n",
    "|__colsum__| 81 | 18 |  99   |\n",
    "\n",
    "Then we calculate like this:\n",
    "\n",
    "$$\\textbf{oe}(X, 1, 0) = \\frac{47}{\\frac{54 \\cdot 81}{99}} = 1.06$$\n",
    "\n",
    "And the full table looks like this:\n",
    "\n",
    "|    .   | a    | b    | \n",
    "|--------|------|------|\n",
    "| __x__  | 0.92 | 1.34 | \n",
    "| __y__  | 1.06 | 0.71 |"
   ]
  },
  {
   "cell_type": "code",
   "execution_count": 35,
   "metadata": {},
   "outputs": [
    {
     "data": {
      "text/plain": [
       "array([[0.92, 1.34],\n",
       "       [1.06, 0.71]])"
      ]
     },
     "execution_count": 35,
     "metadata": {},
     "output_type": "execute_result"
    }
   ],
   "source": [
    "oe_ex = np.array([[ 34.,  11.], [ 47.,   7.]])\n",
    "\n",
    "vsm.observed_over_expected(oe_ex).round(2)"
   ]
  },
  {
   "cell_type": "markdown",
   "metadata": {
    "slideshow": {
     "slide_type": "slide"
    }
   },
   "source": [
    "The implementation `vsm.observed_over_expected` should be pretty efficient."
   ]
  },
  {
   "cell_type": "code",
   "execution_count": 36,
   "metadata": {},
   "outputs": [],
   "source": [
    "imdb5_oe = vsm.observed_over_expected(imdb5)"
   ]
  },
  {
   "cell_type": "code",
   "execution_count": 37,
   "metadata": {},
   "outputs": [],
   "source": [
    "imdb20_oe = vsm.observed_over_expected(imdb20)"
   ]
  },
  {
   "cell_type": "code",
   "execution_count": 38,
   "metadata": {},
   "outputs": [
    {
     "data": {
      "text/plain": [
       "good       0.000000\n",
       ".          0.716910\n",
       "movie      0.791847\n",
       "film       0.825658\n",
       "measure    0.852617\n",
       "dtype: float64"
      ]
     },
     "execution_count": 38,
     "metadata": {},
     "output_type": "execute_result"
    }
   ],
   "source": [
    "vsm.neighbors('good', imdb5_oe).head()"
   ]
  },
  {
   "cell_type": "code",
   "execution_count": 39,
   "metadata": {},
   "outputs": [
    {
     "data": {
      "text/plain": [
       "good     0.000000\n",
       ".        0.081301\n",
       "movie    0.083552\n",
       "br       0.086846\n",
       "film     0.102811\n",
       "dtype: float64"
      ]
     },
     "execution_count": 39,
     "metadata": {},
     "output_type": "execute_result"
    }
   ],
   "source": [
    "vsm.neighbors('good', imdb20_oe).head()"
   ]
  },
  {
   "cell_type": "markdown",
   "metadata": {
    "slideshow": {
     "slide_type": "slide"
    }
   },
   "source": [
    "### Pointwise Mutual Information\n",
    "\n",
    "Pointwise Mutual Information (PMI) is observed-over-expected in log-space:\n",
    "\n",
    "$$\\textbf{pmi}(X, i, j) = \\log\\left(\\frac{X_{ij}}{\\textbf{expected}(X, i, j)}\\right)$$\n",
    "\n",
    "This basic definition runs into a problem for $0$ count cells. The usual response is to set $\\log(0) = 0$, but this is arguably confusing – cell counts that are smaller than expected get negative values, cell counts that are larger than expected get positive values, and 0-count values are placed in the middle of this ranking without real justification.\n",
    "\n",
    "For this reason, it is more typical to use __Positive PMI__, which maps all negative PMI values to $0$:\n",
    "\n",
    "$$\\textbf{ppmi}(X, i, j) = \n",
    "\\begin{cases}\n",
    "\\textbf{pmi}(X, i, j) & \\textrm{if } \\textbf{pmi}(X, i, j) > 0 \\\\\n",
    "0 & \\textrm{otherwise}\n",
    "\\end{cases}$$\n",
    "\n",
    "This is the default for `vsm.pmi`."
   ]
  },
  {
   "cell_type": "code",
   "execution_count": 40,
   "metadata": {},
   "outputs": [],
   "source": [
    "imdb5_pmi = vsm.pmi(imdb5)"
   ]
  },
  {
   "cell_type": "code",
   "execution_count": 41,
   "metadata": {},
   "outputs": [],
   "source": [
    "imdb20_pmi = vsm.pmi(imdb20)"
   ]
  },
  {
   "cell_type": "code",
   "execution_count": 42,
   "metadata": {},
   "outputs": [
    {
     "data": {
      "text/plain": [
       "good         0.000000\n",
       "decent       0.671197\n",
       "bad          0.701241\n",
       "great        0.723905\n",
       "excellent    0.729288\n",
       "dtype: float64"
      ]
     },
     "execution_count": 42,
     "metadata": {},
     "output_type": "execute_result"
    }
   ],
   "source": [
    "vsm.neighbors('good', imdb5_pmi).head()"
   ]
  },
  {
   "cell_type": "code",
   "execution_count": 43,
   "metadata": {},
   "outputs": [
    {
     "data": {
      "text/plain": [
       "good      0.000000\n",
       "decent    0.487422\n",
       "great     0.567846\n",
       "pretty    0.570119\n",
       "acting    0.588779\n",
       "dtype: float64"
      ]
     },
     "execution_count": 43,
     "metadata": {},
     "output_type": "execute_result"
    }
   ],
   "source": [
    "vsm.neighbors('good', imdb20_pmi).head()"
   ]
  },
  {
   "cell_type": "code",
   "execution_count": 44,
   "metadata": {},
   "outputs": [],
   "source": [
    "giga20_pmi = vsm.pmi(giga20)"
   ]
  },
  {
   "cell_type": "code",
   "execution_count": 45,
   "metadata": {},
   "outputs": [
    {
     "data": {
      "text/plain": [
       "market       0.000000\n",
       "markets      0.209558\n",
       "investors    0.233547\n",
       "stocks       0.273131\n",
       "stock        0.277641\n",
       "dtype: float64"
      ]
     },
     "execution_count": 45,
     "metadata": {},
     "output_type": "execute_result"
    }
   ],
   "source": [
    "vsm.neighbors('market', giga20_pmi).head()"
   ]
  },
  {
   "cell_type": "markdown",
   "metadata": {
    "slideshow": {
     "slide_type": "slide"
    }
   },
   "source": [
    "### TF-IDF\n",
    "\n",
    "Perhaps the best known reweighting schemes is __Term Frequency–Inverse Document Frequency (TF-IDF)__, which is, I believe, still the backbone of today's Web search technologies. As the name suggests, it is built from TF and IDF measures:\n",
    "\n",
    "For an $m \\times n$ matrix $X$:\n",
    "\n",
    "$$\\textbf{TF}(X, i, j) = \\frac{X_{ij}}{\\textbf{colsum}(X, i, j)}$$\n",
    "\n",
    "$$\\textbf{IDF}(X, i, j) = \\log\\left(\\frac{n}{|\\{k : X_{ik} > 0\\}|}\\right)$$\n",
    "\n",
    "$$\\textbf{TF-IDF}(X, i, j) = \\textbf{TF}(X, i, j) \\cdot \\textbf{IDF}(X, i, j)$$\n",
    "\n",
    "\n",
    "TF-IDF generally performs best with sparse matrices. It severely punishes words that appear in many documents; if a word appears in every document, then its IDF value is 0. As a result, it can even be problematic with verb dense word $\\times$ word matrices like ours, where most words appear with most other words.\n",
    "\n",
    "There is an implementation of TF-IDF for dense matrices in `vsm.tfidf`.\n",
    "\n",
    "__Important__: `sklearn`'s version, [TfidfTransformer](http://scikit-learn.org/stable/modules/generated/sklearn.feature_extraction.text.TfidfTransformer.html#sklearn.feature_extraction.text.TfidfTransformer), assumes that term frequency (TF) is defined row-wise and document frequency is defined column-wise. That is, it assumes `sklearn`'s document $\\times$ word basic design, which makes sense for classification tasks, where the design is example $\\times$ features. This is the transpose of the way we've been thinking."
   ]
  },
  {
   "cell_type": "markdown",
   "metadata": {
    "slideshow": {
     "slide_type": "slide"
    }
   },
   "source": [
    "## Subword information\n",
    "\n",
    "[Schütze (1993)](https://papers.nips.cc/paper/603-word-space) pioneered the use of subword information to improve representations by reducing sparsity, thereby increasing the density of connections in a VSM. In recent years, this idea has shown value in numerous contexts. \n",
    "\n",
    "[Bojanowski et al. (2016)](https://arxiv.org/abs/1607.04606) (the [fastText](https://fasttext.cc) team) explore a particularly straightforward approach to doing this: represent each word as the sum of the representations for the character-level n-grams it contains.\n",
    "\n",
    "It is simple to derive character-level n-gram representations from our existing VSMs. The function `vsm.ngram_vsm` implements the basic step. Here, we create the 4-gram version of `imdb5`:"
   ]
  },
  {
   "cell_type": "code",
   "execution_count": null,
   "metadata": {},
   "outputs": [],
   "source": [
    "imdb5_ngrams = vsm.ngram_vsm(imdb5, n=4)"
   ]
  },
  {
   "cell_type": "code",
   "execution_count": null,
   "metadata": {},
   "outputs": [],
   "source": [
    "imdb5_ngrams.shape"
   ]
  },
  {
   "cell_type": "markdown",
   "metadata": {},
   "source": [
    "This has the same column dimension as the `imdb5`, but the rows are expanded with all the 4-grams, including boundary symbols `<w>` and `</w>`. \n",
    "\n",
    "`vsm.character_level_rep` is a simple function for creating new word representations from the associated character-level ones. Many variations on that function are worth trying – for example, you could include the original word vector where available, change the aggregation method from `sum` to something else, use a real morphological parser instead of just n-grams, and so on."
   ]
  },
  {
   "cell_type": "markdown",
   "metadata": {},
   "source": [
    "One very powerful thing about this is that we can represent words that are not even in the original VSM:"
   ]
  },
  {
   "cell_type": "code",
   "execution_count": null,
   "metadata": {},
   "outputs": [],
   "source": [
    "'superbly' in imdb5.index"
   ]
  },
  {
   "cell_type": "code",
   "execution_count": null,
   "metadata": {},
   "outputs": [],
   "source": [
    "superbly = vsm.character_level_rep(\"superbly\", imdb5_ngrams)"
   ]
  },
  {
   "cell_type": "code",
   "execution_count": null,
   "metadata": {},
   "outputs": [],
   "source": [
    "superb = vsm.character_level_rep(\"superb\", imdb5_ngrams)"
   ]
  },
  {
   "cell_type": "code",
   "execution_count": null,
   "metadata": {},
   "outputs": [],
   "source": [
    "vsm.cosine(superb, superbly)"
   ]
  },
  {
   "cell_type": "markdown",
   "metadata": {
    "slideshow": {
     "slide_type": "slide"
    }
   },
   "source": [
    "## Visualization\n",
    "\n",
    "* You can begin to get a feel for what your matrix is like by poking around with `vsm.neighbors` to see who is close to or far from whom. \n",
    "\n",
    "* It's very useful to complement this with the more holistic view one can get from looking at a visualization of the entire vector space. \n",
    "\n",
    "* Of course, any visualization will have to be much, much lower dimension than our actual VSM, so we need to proceed cautiously, balancing the high-level view with more fine-grained exploration.\n",
    "\n",
    "* We won't have time this term to cover VSM visualization in detail. scikit-learn has a bunch of functions for doing this in [sklearn.manifold](http://scikit-learn.org/stable/modules/classes.html#module-sklearn.manifold), and the [user guide](http://scikit-learn.org/stable/modules/manifold.html#manifold-learning) for that package is detailed.\n",
    "\n",
    "* It's also worth checking out the online TensorFlow [Embedding Projector tool](http://projector.tensorflow.org), which includes a fast implementation of t-SNE.\n",
    "\n",
    "* In addition, `vsm.tsne_viz` is a wrapper around [sklearn.manifold.TSNE](http://scikit-learn.org/stable/modules/generated/sklearn.manifold.TSNE.html#sklearn.manifold.TSNE) that handles the basic preprocessing and layout for you. t-SNE stands for [t-Distributed Stochastic Neighbor Embedding](http://jmlr.org/papers/volume9/vandermaaten08a/vandermaaten08a.pdf), a powerful method for visualizing high-dimensional vector spaces in 2d. See also [Multiple Maps t-SNE](https://lvdmaaten.github.io/multiplemaps/Multiple_maps_t-SNE/Multiple_maps_t-SNE.html)."
   ]
  },
  {
   "cell_type": "code",
   "execution_count": null,
   "metadata": {},
   "outputs": [],
   "source": [
    "vsm.tsne_viz(imdb20_pmi, random_state=42)"
   ]
  },
  {
   "cell_type": "markdown",
   "metadata": {
    "collapsed": true,
    "slideshow": {
     "slide_type": "slide"
    }
   },
   "source": [
    "## Exploratory exercises\n",
    "\n",
    "These are largely meant to give you a feel for the material, but some of them could lead to projects and help you with future work for the course. These are not for credit.\n",
    "\n",
    "1. Recall that there are two versions each of the IMDB and Gigaword matrices: one with window size 5 and counts scaled as $1/d$ where $d$ is the distance from the target word; and one with a window size of 20 and no scaling of the values. Using `vsm.neighbors` to explore, how would you describe the impact of these different designs?\n",
    "\n",
    "1. IMDB and Gigaword are very different domains. Using `vsm.neighbors`, can you find cases where the dominant sense of a word is clearly different in the two domains in a way that is reflected by vector-space proximity?\n",
    "\n",
    "1. We saw that euclidean distance favors raw frequencies. Find words in the matrix `imdb20` that help make this point: a pair that are semantically unrelated but close according to `vsm.euclidean`, and a pair that are semantically related by far apart according to `vsm.euclidean`.\n",
    "\n",
    "1. Run \n",
    "\n",
    "  ```amod = pd.read_csv(os.path.join(DATA_HOME, 'gigawordnyt-advmod-matrix.csv.gz'), index_col=0)``` \n",
    "  \n",
    "  to read in an adjective $\\times$ adverb matrix derived from the Gigaword corpus. Each cell contains the number of times that the modifier phrase __ADV ADJ__ appeared in Gigaword as given by dependency parses of the data. __ADJ__ is the row value and __ADV__ is the column value. Using the above techniques and measures, try to get a feel for what can be done with this matrix.\n",
    "\n",
    "1. [Turney and Pantel (2010)](https://jair.org/index.php/jair/article/view/10640), p. 158, propose a \"contextual discounting\" extension of PMI to try to address its bias for low-frequency events. Extend `vsm.pmi` so that the user has the option of performing this discounting with the keyword argument `discounting=True`."
   ]
  }
 ],
 "metadata": {
  "celltoolbar": "Slideshow",
  "kernelspec": {
   "display_name": "Python 3",
   "language": "python",
   "name": "python3"
  },
  "language_info": {
   "codemirror_mode": {
    "name": "ipython",
    "version": 3
   },
   "file_extension": ".py",
   "mimetype": "text/x-python",
   "name": "python",
   "nbconvert_exporter": "python",
   "pygments_lexer": "ipython3",
   "version": "3.7.3"
  },
  "widgets": {
   "state": {},
   "version": "1.1.2"
  }
 },
 "nbformat": 4,
 "nbformat_minor": 2
}
