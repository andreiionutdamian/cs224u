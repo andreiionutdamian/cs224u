{
 "cells": [
  {
   "cell_type": "markdown",
   "metadata": {},
   "source": [
    "# Homework and bake-off: word-level entailment with neural networks"
   ]
  },
  {
   "cell_type": "code",
   "execution_count": 1,
   "metadata": {},
   "outputs": [],
   "source": [
    "__author__ = \"Christopher Potts\"\n",
    "__version__ = \"CS224u, Stanford, Spring 2020\""
   ]
  },
  {
   "cell_type": "markdown",
   "metadata": {},
   "source": [
    "## Contents\n",
    "\n",
    "1. [Overview](#Overview)\n",
    "1. [Set-up](#Set-up)\n",
    "1. [Data](#Data)\n",
    "  1. [Edge disjoint](#Edge-disjoint)\n",
    "  1. [Word disjoint](#Word-disjoint)\n",
    "1. [Baseline](#Baseline)\n",
    "  1. [Representing words: vector_func](#Representing-words:-vector_func)\n",
    "  1. [Combining words into inputs: vector_combo_func](#Combining-words-into-inputs:-vector_combo_func)\n",
    "  1. [Classifier model](#Classifier-model)\n",
    "  1. [Baseline results](#Baseline-results)\n",
    "1. [Homework questions](#Homework-questions)\n",
    "  1. [Hypothesis-only baseline [2 points]](#Hypothesis-only-baseline-[2-points])\n",
    "  1. [Alternatives to concatenation [2 points]](#Alternatives-to-concatenation-[2-points])\n",
    "  1. [A deeper network [2 points]](#A-deeper-network-[2-points])\n",
    "  1. [Your original system [3 points]](#Your-original-system-[3-points])\n",
    "1. [Bake-off [1 point]](#Bake-off-[1-point])"
   ]
  },
  {
   "cell_type": "markdown",
   "metadata": {},
   "source": [
    "## Overview"
   ]
  },
  {
   "cell_type": "markdown",
   "metadata": {},
   "source": [
    "The general problem is word-level natural language inference.\n",
    "\n",
    "Training examples are pairs of words $(w_{L}, w_{R}), y$ with $y = 1$ if $w_{L}$ entails $w_{R}$, otherwise $0$.\n",
    "\n",
    "The homework questions below ask you to define baseline models for this and develop your own system for entry in the bake-off, which will take place on a held-out test-set distributed at the start of the bake-off. (Thus, all the data you have available for development is available for training your final system before the bake-off begins.)\n",
    "\n",
    "<img src=\"fig/wordentail-diagram.png\" width=600 alt=\"wordentail-diagram.png\" />"
   ]
  },
  {
   "cell_type": "markdown",
   "metadata": {},
   "source": [
    "## Set-up"
   ]
  },
  {
   "cell_type": "markdown",
   "metadata": {},
   "source": [
    "See [the first notebook in this unit](nli_01_task_and_data.ipynb) for set-up instructions."
   ]
  },
  {
   "cell_type": "code",
   "execution_count": 2,
   "metadata": {},
   "outputs": [],
   "source": [
    "from collections import defaultdict\n",
    "import json\n",
    "import numpy as np\n",
    "import os\n",
    "import pandas as pd\n",
    "from torch_shallow_neural_classifier import TorchShallowNeuralClassifier\n",
    "import nli\n",
    "import utils"
   ]
  },
  {
   "cell_type": "code",
   "execution_count": 3,
   "metadata": {},
   "outputs": [],
   "source": [
    "DATA_HOME = 'data'\n",
    "\n",
    "NLIDATA_HOME = os.path.join(DATA_HOME, 'nlidata')\n",
    "\n",
    "wordentail_filename = os.path.join(\n",
    "    NLIDATA_HOME, 'nli_wordentail_bakeoff_data.json')\n",
    "\n",
    "GLOVE_HOME = os.path.join(DATA_HOME, 'glove.6B')"
   ]
  },
  {
   "cell_type": "markdown",
   "metadata": {},
   "source": [
    "## Data\n",
    "\n",
    "I've processed the data into two different train/test splits, in an effort to put some pressure on our models to actually learn these semantic relations, as opposed to exploiting regularities in the sample.\n",
    "\n",
    "* `edge_disjoint`: The `train` and `dev` __edge__ sets are disjoint, but many __words__ appear in both `train` and `dev`.\n",
    "* `word_disjoint`: The `train` and `dev` __vocabularies are disjoint__, and thus the edges are disjoint as well.\n",
    "\n",
    "These are very different problems. For `word_disjoint`, there is real pressure on the model to learn abstract relationships, as opposed to memorizing properties of individual words."
   ]
  },
  {
   "cell_type": "code",
   "execution_count": 4,
   "metadata": {},
   "outputs": [],
   "source": [
    "with open(wordentail_filename) as f:\n",
    "    wordentail_data = json.load(f)"
   ]
  },
  {
   "cell_type": "markdown",
   "metadata": {},
   "source": [
    "The outer keys are the  splits plus a list giving the vocabulary for the entire dataset:"
   ]
  },
  {
   "cell_type": "code",
   "execution_count": 5,
   "metadata": {},
   "outputs": [
    {
     "data": {
      "text/plain": [
       "dict_keys(['edge_disjoint', 'vocab', 'word_disjoint'])"
      ]
     },
     "execution_count": 5,
     "metadata": {},
     "output_type": "execute_result"
    }
   ],
   "source": [
    "wordentail_data.keys()"
   ]
  },
  {
   "cell_type": "markdown",
   "metadata": {},
   "source": [
    "### Edge disjoint"
   ]
  },
  {
   "cell_type": "code",
   "execution_count": 6,
   "metadata": {},
   "outputs": [
    {
     "data": {
      "text/plain": [
       "dict_keys(['dev', 'train'])"
      ]
     },
     "execution_count": 6,
     "metadata": {},
     "output_type": "execute_result"
    }
   ],
   "source": [
    "wordentail_data['edge_disjoint'].keys()"
   ]
  },
  {
   "cell_type": "markdown",
   "metadata": {},
   "source": [
    "This is what the split looks like; all three have this same format:"
   ]
  },
  {
   "cell_type": "code",
   "execution_count": 7,
   "metadata": {},
   "outputs": [
    {
     "data": {
      "text/plain": [
       "[[['sweater', 'stroke'], 0],\n",
       " [['constipation', 'hypovolemia'], 0],\n",
       " [['disease', 'inflammation'], 0],\n",
       " [['herring', 'animal'], 1],\n",
       " [['cauliflower', 'outlook'], 0]]"
      ]
     },
     "execution_count": 7,
     "metadata": {},
     "output_type": "execute_result"
    }
   ],
   "source": [
    "wordentail_data['edge_disjoint']['dev'][: 5]"
   ]
  },
  {
   "cell_type": "markdown",
   "metadata": {},
   "source": [
    "Let's test to make sure no edges are shared between `train` and `dev`:"
   ]
  },
  {
   "cell_type": "code",
   "execution_count": 8,
   "metadata": {},
   "outputs": [
    {
     "data": {
      "text/plain": [
       "0"
      ]
     },
     "execution_count": 8,
     "metadata": {},
     "output_type": "execute_result"
    }
   ],
   "source": [
    "nli.get_edge_overlap_size(wordentail_data, 'edge_disjoint')"
   ]
  },
  {
   "cell_type": "markdown",
   "metadata": {},
   "source": [
    "As we expect, a *lot* of vocabulary items are shared between `train` and `dev`:"
   ]
  },
  {
   "cell_type": "code",
   "execution_count": 9,
   "metadata": {},
   "outputs": [
    {
     "data": {
      "text/plain": [
       "2916"
      ]
     },
     "execution_count": 9,
     "metadata": {},
     "output_type": "execute_result"
    }
   ],
   "source": [
    "nli.get_vocab_overlap_size(wordentail_data, 'edge_disjoint')"
   ]
  },
  {
   "cell_type": "markdown",
   "metadata": {},
   "source": [
    "This is a large percentage of the entire vocab:"
   ]
  },
  {
   "cell_type": "code",
   "execution_count": 10,
   "metadata": {},
   "outputs": [
    {
     "data": {
      "text/plain": [
       "8470"
      ]
     },
     "execution_count": 10,
     "metadata": {},
     "output_type": "execute_result"
    }
   ],
   "source": [
    "len(wordentail_data['vocab'])"
   ]
  },
  {
   "cell_type": "markdown",
   "metadata": {},
   "source": [
    "Here's the distribution of labels in the `train` set. It's highly imbalanced, which will pose a challenge for learning. (I'll go ahead and reveal that the `dev` set is similarly distributed.)"
   ]
  },
  {
   "cell_type": "code",
   "execution_count": 11,
   "metadata": {},
   "outputs": [],
   "source": [
    "def label_distribution(split):\n",
    "    return pd.DataFrame(wordentail_data[split]['train'])[1].value_counts()"
   ]
  },
  {
   "cell_type": "code",
   "execution_count": 12,
   "metadata": {},
   "outputs": [
    {
     "data": {
      "text/plain": [
       "0    14650\n",
       "1     2745\n",
       "Name: 1, dtype: int64"
      ]
     },
     "execution_count": 12,
     "metadata": {},
     "output_type": "execute_result"
    }
   ],
   "source": [
    "label_distribution('edge_disjoint')"
   ]
  },
  {
   "cell_type": "markdown",
   "metadata": {},
   "source": [
    "### Word disjoint"
   ]
  },
  {
   "cell_type": "code",
   "execution_count": 13,
   "metadata": {},
   "outputs": [
    {
     "data": {
      "text/plain": [
       "dict_keys(['dev', 'train'])"
      ]
     },
     "execution_count": 13,
     "metadata": {},
     "output_type": "execute_result"
    }
   ],
   "source": [
    "wordentail_data['word_disjoint'].keys()"
   ]
  },
  {
   "cell_type": "markdown",
   "metadata": {},
   "source": [
    "In the `word_disjoint` split, no __words__ are shared between `train` and `dev`:"
   ]
  },
  {
   "cell_type": "code",
   "execution_count": 14,
   "metadata": {},
   "outputs": [
    {
     "data": {
      "text/plain": [
       "0"
      ]
     },
     "execution_count": 14,
     "metadata": {},
     "output_type": "execute_result"
    }
   ],
   "source": [
    "nli.get_vocab_overlap_size(wordentail_data, 'word_disjoint')"
   ]
  },
  {
   "cell_type": "markdown",
   "metadata": {},
   "source": [
    "Because no words are shared between `train` and `dev`, no edges are either:"
   ]
  },
  {
   "cell_type": "code",
   "execution_count": 15,
   "metadata": {},
   "outputs": [
    {
     "data": {
      "text/plain": [
       "0"
      ]
     },
     "execution_count": 15,
     "metadata": {},
     "output_type": "execute_result"
    }
   ],
   "source": [
    "nli.get_edge_overlap_size(wordentail_data, 'word_disjoint')"
   ]
  },
  {
   "cell_type": "markdown",
   "metadata": {},
   "source": [
    "The label distribution is similar to that of `edge_disjoint`, though the overall number of examples is a bit smaller:"
   ]
  },
  {
   "cell_type": "code",
   "execution_count": 16,
   "metadata": {},
   "outputs": [
    {
     "data": {
      "text/plain": [
       "0    7199\n",
       "1    1349\n",
       "Name: 1, dtype: int64"
      ]
     },
     "execution_count": 16,
     "metadata": {},
     "output_type": "execute_result"
    }
   ],
   "source": [
    "label_distribution('word_disjoint')"
   ]
  },
  {
   "cell_type": "markdown",
   "metadata": {},
   "source": [
    "## Baseline"
   ]
  },
  {
   "cell_type": "markdown",
   "metadata": {},
   "source": [
    "Even in deep learning, __feature representation is vital and requires care!__ For our task, feature representation has two parts: representing the individual words and combining those representations into a single network input."
   ]
  },
  {
   "cell_type": "markdown",
   "metadata": {},
   "source": [
    "### Representing words: vector_func"
   ]
  },
  {
   "cell_type": "markdown",
   "metadata": {},
   "source": [
    "Let's consider two baseline word representations methods:\n",
    "\n",
    "1. Random vectors (as returned by `utils.randvec`).\n",
    "1. 50-dimensional GloVe representations."
   ]
  },
  {
   "cell_type": "code",
   "execution_count": 17,
   "metadata": {},
   "outputs": [],
   "source": [
    "def randvec(w, n=50, lower=-1.0, upper=1.0):\n",
    "    \"\"\"Returns a random vector of length `n`. `w` is ignored.\"\"\"\n",
    "    return utils.randvec(n=n, lower=lower, upper=upper)"
   ]
  },
  {
   "cell_type": "code",
   "execution_count": 18,
   "metadata": {},
   "outputs": [],
   "source": [
    "# Any of the files in glove.6B will work here:\n",
    "\n",
    "glove_dim = 50\n",
    "\n",
    "glove_src = os.path.join(GLOVE_HOME, 'glove.6B.{}d.txt'.format(glove_dim))\n",
    "\n",
    "# Creates a dict mapping strings (words) to GloVe vectors:\n",
    "GLOVE = utils.glove2dict(glove_src)\n",
    "\n",
    "def glove_vec(w):    \n",
    "    \"\"\"Return `w`'s GloVe representation if available, else return \n",
    "    a random vector.\"\"\"\n",
    "    return GLOVE.get(w, randvec(w, n=glove_dim))"
   ]
  },
  {
   "cell_type": "markdown",
   "metadata": {},
   "source": [
    "### Combining words into inputs: vector_combo_func"
   ]
  },
  {
   "cell_type": "markdown",
   "metadata": {},
   "source": [
    "Here we decide how to combine the two word vectors into a single representation. In more detail, where `u` is a vector representation of the left word and `v` is a vector representation of the right word, we need a function `vector_combo_func` such that `vector_combo_func(u, v)` returns a new input vector `z` of dimension `m`. A simple example is concatenation:"
   ]
  },
  {
   "cell_type": "code",
   "execution_count": 19,
   "metadata": {},
   "outputs": [],
   "source": [
    "def vec_concatenate(u, v):\n",
    "    \"\"\"Concatenate np.array instances `u` and `v` into a new np.array\"\"\"\n",
    "    return np.concatenate((u, v))"
   ]
  },
  {
   "cell_type": "markdown",
   "metadata": {},
   "source": [
    "`vector_combo_func` could instead be vector average, vector difference, etc. (even combinations of those) – there's lots of space for experimentation here; [homework question 2](#Alternatives-to-concatenation-[1-point]) below pushes you to do some exploration."
   ]
  },
  {
   "cell_type": "markdown",
   "metadata": {},
   "source": [
    "### Classifier model\n",
    "\n",
    "For a baseline model, I chose `TorchShallowNeuralClassifier`:"
   ]
  },
  {
   "cell_type": "code",
   "execution_count": 20,
   "metadata": {},
   "outputs": [],
   "source": [
    "net = TorchShallowNeuralClassifier(hidden_dim=50, max_iter=100)"
   ]
  },
  {
   "cell_type": "markdown",
   "metadata": {},
   "source": [
    "### Baseline results\n",
    "\n",
    "The following puts the above pieces together, using `vector_func=glove_vec`, since `vector_func=randvec` seems so hopelessly misguided for `word_disjoint`!"
   ]
  },
  {
   "cell_type": "code",
   "execution_count": 21,
   "metadata": {},
   "outputs": [
    {
     "name": "stdout",
     "output_type": "stream",
     "text": [
      "Finished epoch 100 of 100; error is 0.020413828897289932              precision    recall  f1-score   support\n",
      "\n",
      "           0      0.925     0.936     0.931      1910\n",
      "           1      0.438     0.397     0.417       239\n",
      "\n",
      "    accuracy                          0.876      2149\n",
      "   macro avg      0.682     0.667     0.674      2149\n",
      "weighted avg      0.871     0.876     0.874      2149\n",
      "\n"
     ]
    }
   ],
   "source": [
    "word_disjoint_experiment = nli.wordentail_experiment(\n",
    "    train_data=wordentail_data['word_disjoint']['train'],\n",
    "    assess_data=wordentail_data['word_disjoint']['dev'], \n",
    "    model=net, \n",
    "    vector_func=glove_vec,\n",
    "    vector_combo_func=vec_concatenate)"
   ]
  },
  {
   "cell_type": "markdown",
   "metadata": {},
   "source": [
    "## Homework questions\n",
    "\n",
    "Please embed your homework responses in this notebook, and do not delete any cells from the notebook. (You are free to add as many cells as you like as part of your responses.)"
   ]
  },
  {
   "cell_type": "markdown",
   "metadata": {},
   "source": [
    "### Hypothesis-only baseline [2 points]\n",
    "\n",
    "During our discussion of SNLI and MultiNLI, we noted that a number of research teams have shown that hypothesis-only baselines for NLI tasks can be remarkably robust. This question asks you to explore briefly how this baseline effects the 'edge_disjoint' and 'word_disjoint' versions of our task.\n",
    "\n",
    "For this problem, submit two functions:\n",
    "\n",
    "1. A `vector_combo_func` function called `hypothesis_only` that simply throws away the premise, using the unmodified hypothesis (second) vector as its representation of the example.\n",
    "\n",
    "1. A function called `run_hypothesis_only_evaluation` that does the following:\n",
    "    1. Loops over the two conditions 'word_disjoint' and 'edge_disjoint' and the two `vector_combo_func` values `vec_concatenate` and `hypothesis_only`, calling `nli.wordentail_experiment` to train on the conditions 'train' portion and assess on its 'dev' portion, with `glove_vec` as the `vector_func`. So that the results are consistent, use an `sklearn.linear_model.LogisticRegression` with default parameters as the model.\n",
    "    1. Returns a `dict` mapping `(condition_name, function_name)` pairs to the 'macro-F1' score for that pair, as returned by the call to `nli.wordentail_experiment`. (Tip: you can get the `str` name of your function `hypothesis_only` with `hypothesis_only.__name__`.)\n",
    "    \n",
    "The test functions `test_hypothesis_only` and `test_run_hypothesis_only_evaluation` will help ensure that your functions have the desired logic."
   ]
  },
  {
   "cell_type": "code",
   "execution_count": 66,
   "metadata": {},
   "outputs": [],
   "source": [
    "##### YOUR CODE HERE\n",
    "from sklearn.linear_model import LogisticRegression\n",
    "\n",
    "def hypothesis_only(u, v):\n",
    "    return v\n",
    "\n",
    "\n",
    "\n",
    "def run_hypothesis_only_evaluation(include_shallow=False):\n",
    "    ##### YOUR CODE HERE\n",
    "    results = {}\n",
    "    model_facts = [lambda: LogisticRegression()]\n",
    "    if include_shallow:\n",
    "        model_facts.append(lambda: TorchShallowNeuralClassifier(hidden_dim=50, max_iter=100))\n",
    "    for condition in [ 'word_disjoint', 'edge_disjoint']:\n",
    "        for vector_combo_func in [vec_concatenate, hypothesis_only]:\n",
    "            for model_fact in model_facts:\n",
    "                model = model_fact()\n",
    "                iter_name = (condition, vector_combo_func.__name__) \n",
    "                if include_shallow:\n",
    "                    iter_name = iter_name + (model.__class__.__name__,)\n",
    "                print(\"Running {}\".format(iter_name))\n",
    "                exp = nli.wordentail_experiment(\n",
    "                    train_data=wordentail_data[condition]['train'],\n",
    "                    assess_data=wordentail_data[condition]['dev'], \n",
    "                    model=model, \n",
    "                    vector_func=glove_vec,\n",
    "                    vector_combo_func=vector_combo_func\n",
    "                )   \n",
    "                results[iter_name] = exp['macro-F1']\n",
    "    pres = []\n",
    "    for itr in results: \n",
    "        pres.append((\"{:<15}\".format(str(itr)+':'), results[itr]))\n",
    "    pres = sorted(pres, key=lambda x:x[1])\n",
    "    for r in pres: print(r[0], r[1])\n",
    "    return results\n",
    "\n"
   ]
  },
  {
   "cell_type": "code",
   "execution_count": 67,
   "metadata": {},
   "outputs": [],
   "source": [
    "def test_hypothesis_only(hypothesis_only):\n",
    "    v = hypothesis_only(1, 2)\n",
    "    assert v == 2   "
   ]
  },
  {
   "cell_type": "code",
   "execution_count": 68,
   "metadata": {},
   "outputs": [],
   "source": [
    "test_hypothesis_only(hypothesis_only)"
   ]
  },
  {
   "cell_type": "code",
   "execution_count": 69,
   "metadata": {},
   "outputs": [],
   "source": [
    "def test_run_hypothesis_only_evaluation(run_hypothesis_only_evaluation):\n",
    "    results = run_hypothesis_only_evaluation()\n",
    "    assert ('word_disjoint', 'vec_concatenate') in results, \\\n",
    "        \"The return value of `run_hypothesis_only_evaluation` does not have the intended kind of keys\"\n",
    "    assert isinstance(results[('word_disjoint', 'vec_concatenate')], float), \\\n",
    "        \"The values of the `run_hypothesis_only_evaluation` result should be floats\""
   ]
  },
  {
   "cell_type": "code",
   "execution_count": 70,
   "metadata": {},
   "outputs": [
    {
     "name": "stdout",
     "output_type": "stream",
     "text": [
      "Running ('word_disjoint', 'vec_concatenate')\n",
      "              precision    recall  f1-score   support\n",
      "\n",
      "           0      0.902     0.979     0.939      1910\n",
      "           1      0.467     0.146     0.223       239\n",
      "\n",
      "    accuracy                          0.886      2149\n",
      "   macro avg      0.684     0.563     0.581      2149\n",
      "weighted avg      0.853     0.886     0.859      2149\n",
      "\n",
      "Running ('word_disjoint', 'hypothesis_only')\n",
      "              precision    recall  f1-score   support\n",
      "\n",
      "           0      0.893     0.989     0.939      1910\n",
      "           1      0.382     0.054     0.095       239\n",
      "\n",
      "    accuracy                          0.885      2149\n",
      "   macro avg      0.638     0.522     0.517      2149\n",
      "weighted avg      0.836     0.885     0.845      2149\n",
      "\n",
      "Running ('edge_disjoint', 'vec_concatenate')\n",
      "              precision    recall  f1-score   support\n",
      "\n",
      "           0      0.876     0.970     0.921      7376\n",
      "           1      0.583     0.232     0.332      1321\n",
      "\n",
      "    accuracy                          0.858      8697\n",
      "   macro avg      0.729     0.601     0.626      8697\n",
      "weighted avg      0.831     0.858     0.831      8697\n",
      "\n",
      "Running ('edge_disjoint', 'hypothesis_only')\n",
      "              precision    recall  f1-score   support\n",
      "\n",
      "           0      0.872     0.976     0.921      7376\n",
      "           1      0.592     0.198     0.296      1321\n",
      "\n",
      "    accuracy                          0.857      8697\n",
      "   macro avg      0.732     0.587     0.608      8697\n",
      "weighted avg      0.829     0.857     0.826      8697\n",
      "\n",
      "('word_disjoint', 'hypothesis_only'): 0.5169358178053831\n",
      "('word_disjoint', 'vec_concatenate'): 0.5808424781930268\n",
      "('edge_disjoint', 'hypothesis_only'): 0.6084648969429687\n",
      "('edge_disjoint', 'vec_concatenate'): 0.6260802530645669\n"
     ]
    }
   ],
   "source": [
    "test_run_hypothesis_only_evaluation(run_hypothesis_only_evaluation)"
   ]
  },
  {
   "cell_type": "code",
   "execution_count": 72,
   "metadata": {
    "scrolled": false
   },
   "outputs": [
    {
     "name": "stdout",
     "output_type": "stream",
     "text": [
      "Running ('word_disjoint', 'vec_concatenate', 'LogisticRegression')\n",
      "              precision    recall  f1-score   support\n",
      "\n",
      "           0      0.902     0.978     0.938      1910\n",
      "           1      0.455     0.146     0.222       239\n",
      "\n",
      "    accuracy                          0.886      2149\n",
      "   macro avg      0.678     0.562     0.580      2149\n",
      "weighted avg      0.852     0.886     0.859      2149\n",
      "\n",
      "Running ('word_disjoint', 'vec_concatenate', 'TorchShallowNeuralClassifier')\n",
      "Finished epoch 100 of 100; error is 0.023769455030560493              precision    recall  f1-score   support\n",
      "\n",
      "           0      0.923     0.936     0.930      1910\n",
      "           1      0.425     0.377     0.399       239\n",
      "\n",
      "    accuracy                          0.874      2149\n",
      "   macro avg      0.674     0.656     0.664      2149\n",
      "weighted avg      0.868     0.874     0.871      2149\n",
      "\n",
      "Running ('word_disjoint', 'hypothesis_only', 'LogisticRegression')\n",
      "              precision    recall  f1-score   support\n",
      "\n",
      "           0      0.893     0.988     0.938      1910\n",
      "           1      0.371     0.054     0.095       239\n",
      "\n",
      "    accuracy                          0.885      2149\n",
      "   macro avg      0.632     0.521     0.517      2149\n",
      "weighted avg      0.835     0.885     0.845      2149\n",
      "\n",
      "Running ('word_disjoint', 'hypothesis_only', 'TorchShallowNeuralClassifier')\n",
      "Finished epoch 100 of 100; error is 1.541792243719101              precision    recall  f1-score   support\n",
      "\n",
      "           0      0.895     0.959     0.926      1910\n",
      "           1      0.235     0.100     0.141       239\n",
      "\n",
      "    accuracy                          0.864      2149\n",
      "   macro avg      0.565     0.530     0.533      2149\n",
      "weighted avg      0.822     0.864     0.839      2149\n",
      "\n",
      "Running ('edge_disjoint', 'vec_concatenate', 'LogisticRegression')\n",
      "              precision    recall  f1-score   support\n",
      "\n",
      "           0      0.875     0.971     0.921      7376\n",
      "           1      0.582     0.228     0.328      1321\n",
      "\n",
      "    accuracy                          0.858      8697\n",
      "   macro avg      0.729     0.599     0.624      8697\n",
      "weighted avg      0.831     0.858     0.830      8697\n",
      "\n",
      "Running ('edge_disjoint', 'vec_concatenate', 'TorchShallowNeuralClassifier')\n",
      "Finished epoch 100 of 100; error is 0.06112714880146086              precision    recall  f1-score   support\n",
      "\n",
      "           0      0.918     0.934     0.926      7376\n",
      "           1      0.591     0.534     0.561      1321\n",
      "\n",
      "    accuracy                          0.873      8697\n",
      "   macro avg      0.754     0.734     0.744      8697\n",
      "weighted avg      0.868     0.873     0.870      8697\n",
      "\n",
      "Running ('edge_disjoint', 'hypothesis_only', 'LogisticRegression')\n",
      "              precision    recall  f1-score   support\n",
      "\n",
      "           0      0.871     0.975     0.920      7376\n",
      "           1      0.581     0.195     0.292      1321\n",
      "\n",
      "    accuracy                          0.856      8697\n",
      "   macro avg      0.726     0.585     0.606      8697\n",
      "weighted avg      0.827     0.856     0.825      8697\n",
      "\n",
      "Running ('edge_disjoint', 'hypothesis_only', 'TorchShallowNeuralClassifier')\n",
      "Finished epoch 100 of 100; error is 3.2382444888353348              precision    recall  f1-score   support\n",
      "\n",
      "           0      0.908     0.950     0.928      7376\n",
      "           1      0.621     0.460     0.529      1321\n",
      "\n",
      "    accuracy                          0.875      8697\n",
      "   macro avg      0.764     0.705     0.728      8697\n",
      "weighted avg      0.864     0.875     0.868      8697\n",
      "\n",
      "('word_disjoint', 'hypothesis_only', 'LogisticRegression'): 0.5166301461305162\n",
      "('word_disjoint', 'hypothesis_only', 'TorchShallowNeuralClassifier'): 0.533358234451438\n",
      "('word_disjoint', 'vec_concatenate', 'LogisticRegression'): 0.5798704931686259\n",
      "('edge_disjoint', 'hypothesis_only', 'LogisticRegression'): 0.6062178665830953\n",
      "('edge_disjoint', 'vec_concatenate', 'LogisticRegression'): 0.624037525556164\n",
      "('word_disjoint', 'vec_concatenate', 'TorchShallowNeuralClassifier'): 0.6643342899151987\n",
      "('edge_disjoint', 'hypothesis_only', 'TorchShallowNeuralClassifier'): 0.7284395181500279\n",
      "('edge_disjoint', 'vec_concatenate', 'TorchShallowNeuralClassifier'): 0.7435023725559298\n"
     ]
    },
    {
     "data": {
      "text/plain": [
       "{('word_disjoint',\n",
       "  'vec_concatenate',\n",
       "  'LogisticRegression'): 0.5798704931686259,\n",
       " ('word_disjoint',\n",
       "  'vec_concatenate',\n",
       "  'TorchShallowNeuralClassifier'): 0.6643342899151987,\n",
       " ('word_disjoint',\n",
       "  'hypothesis_only',\n",
       "  'LogisticRegression'): 0.5166301461305162,\n",
       " ('word_disjoint',\n",
       "  'hypothesis_only',\n",
       "  'TorchShallowNeuralClassifier'): 0.533358234451438,\n",
       " ('edge_disjoint', 'vec_concatenate', 'LogisticRegression'): 0.624037525556164,\n",
       " ('edge_disjoint',\n",
       "  'vec_concatenate',\n",
       "  'TorchShallowNeuralClassifier'): 0.7435023725559298,\n",
       " ('edge_disjoint',\n",
       "  'hypothesis_only',\n",
       "  'LogisticRegression'): 0.6062178665830953,\n",
       " ('edge_disjoint',\n",
       "  'hypothesis_only',\n",
       "  'TorchShallowNeuralClassifier'): 0.7284395181500279}"
      ]
     },
     "execution_count": 72,
     "metadata": {},
     "output_type": "execute_result"
    }
   ],
   "source": [
    "#run_hypothesis_only_evaluation(include_shallow=True)"
   ]
  },
  {
   "cell_type": "markdown",
   "metadata": {},
   "source": [
    "### Alternatives to concatenation [2 points]\n",
    "\n",
    "We've so far just used vector concatenation to represent the premise and hypothesis words. This question asks you to explore two simple alternative:\n",
    "\n",
    "1. Write a function `vec_diff` that, for a given pair of vector inputs `u` and `v`, returns the element-wise difference between `u` and `v`.\n",
    "\n",
    "1. Write a function `vec_max` that, for a given pair of vector inputs `u` and `v`, returns the element-wise max values between `u` and `v`.\n",
    "\n",
    "You needn't include your uses of `nli.wordentail_experiment` with these functions, but we assume you'll be curious to see how they do!"
   ]
  },
  {
   "cell_type": "code",
   "execution_count": 73,
   "metadata": {},
   "outputs": [],
   "source": [
    "def vec_diff(u, v):\n",
    "    return u-v\n",
    "\n",
    "\n",
    "\n",
    "    \n",
    "def vec_max(u, v):\n",
    "    return np.maximum(u,v)\n",
    "\n",
    "\n"
   ]
  },
  {
   "cell_type": "code",
   "execution_count": 74,
   "metadata": {},
   "outputs": [],
   "source": [
    "def test_vec_diff(vec_diff):\n",
    "    u = np.array([10.2, 8.1])\n",
    "    v = np.array([1.2, -7.1])\n",
    "    result = vec_diff(u, v)\n",
    "    expected = np.array([9.0, 15.2])\n",
    "    assert np.array_equal(result, expected), \\\n",
    "        \"Expected {}; got {}\".format(expected, result)"
   ]
  },
  {
   "cell_type": "code",
   "execution_count": 75,
   "metadata": {},
   "outputs": [],
   "source": [
    "test_vec_diff(vec_diff)"
   ]
  },
  {
   "cell_type": "code",
   "execution_count": 76,
   "metadata": {},
   "outputs": [],
   "source": [
    "def test_vec_max(vec_max):\n",
    "    u = np.array([1.2,  8.1])\n",
    "    v = np.array([10.2, -7.1])\n",
    "    result = vec_max(u, v)\n",
    "    expected = np.array([10.2, 8.1])\n",
    "    assert np.array_equal(result, expected), \\\n",
    "        \"Expected {}; got {}\".format(expected, result)"
   ]
  },
  {
   "cell_type": "code",
   "execution_count": 77,
   "metadata": {},
   "outputs": [],
   "source": [
    "test_vec_max(vec_max)"
   ]
  },
  {
   "cell_type": "markdown",
   "metadata": {},
   "source": [
    "### A deeper network [2 points]\n",
    "\n",
    "It is very easy to subclass `TorchShallowNeuralClassifier` if all you want to do is change the network graph: all you have to do is write a new `define_graph`. If your graph has new arguments that the user might want to set, then you should also redefine `__init__` so that these values are accepted and set as attributes.\n",
    "\n",
    "For this question, please subclass `TorchShallowNeuralClassifier` so that it defines the following graph:\n",
    "\n",
    "$$\\begin{align}\n",
    "h_{1} &= xW_{1} + b_{1} \\\\\n",
    "r_{1} &= \\textbf{Bernoulli}(1 - \\textbf{dropout\\_prob}, n) \\\\\n",
    "d_{1} &= r_1 * h_{1} \\\\\n",
    "h_{2} &= f(d_{1}) \\\\\n",
    "h_{3} &= h_{2}W_{2} + b_{2}\n",
    "\\end{align}$$\n",
    "\n",
    "Here, $r_{1}$ and $d_{1}$ define a dropout layer: $r_{1}$ is a random binary vector of dimension $n$, where the probability of a value being $1$ is given by $1 - \\textbf{dropout_prob}$. $r_{1}$ is multiplied element-wise by our first hidden representation, thereby zeroing out some of the values. The result is fed to the user's activation function $f$, and the result of that is fed through another linear layer to produce $h_{3}$. (Inside `TorchShallowNeuralClassifier`, $h_{3}$ is the basis for a softmax classifier, so no activation function is applied to it.)\n",
    "\n",
    "For your implementation, please use `nn.Sequential`, `nn.Linear`, and `nn.Dropout` to define the required layers.\n",
    "\n",
    "For comparison, using this notation, `TorchShallowNeuralClassifier` defines the following graph:\n",
    "\n",
    "$$\\begin{align}\n",
    "h_{1} &= xW_{1} + b_{1} \\\\\n",
    "h_{2} &= f(h_{1}) \\\\\n",
    "h_{3} &= h_{2}W_{2} + b_{2}\n",
    "\\end{align}$$\n",
    "\n",
    "The following code starts this sub-class for you, so that you can concentrate on `define_graph`. Be sure to make use of `self.dropout_prob`\n",
    "\n",
    "For this problem, submit just your completed  `TorchDeepNeuralClassifier`. You needn't evaluate it, though we assume you will be keen to do that!\n",
    "\n",
    "You can use `test_TorchDeepNeuralClassifier` to ensure that your network has the intended structure."
   ]
  },
  {
   "cell_type": "code",
   "execution_count": 78,
   "metadata": {},
   "outputs": [],
   "source": [
    "import torch.nn as nn\n",
    "\n",
    "class TorchDeepNeuralClassifier(TorchShallowNeuralClassifier):\n",
    "    def __init__(self, dropout_prob=0.7, **kwargs):\n",
    "        self.dropout_prob = dropout_prob\n",
    "        super().__init__(**kwargs)\n",
    "    \n",
    "    def define_graph(self):\n",
    "        \"\"\"Complete this method!\n",
    "        \n",
    "        Returns\n",
    "        -------\n",
    "        an `nn.Module` instance, which can be a free-standing class you \n",
    "        write yourself, as in `torch_rnn_classifier`, or the outpiut of \n",
    "        `nn.Sequential`, as in `torch_shallow_neural_classifier`.\n",
    "        \n",
    "        \"\"\"\n",
    "        return nn.Sequential(\n",
    "            nn.Linear(self.input_dim, self.hidden_dim),\n",
    "            nn.Dropout(self.dropout_prob),\n",
    "            self.hidden_activation,\n",
    "            nn.Linear(self.hidden_dim, self.n_classes_)\n",
    "        )\n",
    "\n",
    "\n",
    "    \n",
    "\n",
    "##### YOUR CODE HERE    \n",
    "\n",
    "\n"
   ]
  },
  {
   "cell_type": "code",
   "execution_count": 79,
   "metadata": {},
   "outputs": [],
   "source": [
    "def test_TorchDeepNeuralClassifier(TorchDeepNeuralClassifier):\n",
    "    dropout_prob = 0.55\n",
    "    assert hasattr(TorchDeepNeuralClassifier(), \"dropout_prob\"), \\\n",
    "        \"TorchDeepNeuralClassifier must have an attribute `dropout_prob`.\"\n",
    "    try:\n",
    "        inst = TorchDeepNeuralClassifier(dropout_prob=dropout_prob)\n",
    "    except TypeError:\n",
    "        raise TypeError(\"TorchDeepNeuralClassifier must allow the user \"\n",
    "                        \"to set `dropout_prob` on initialization\")\n",
    "    inst.input_dim = 10\n",
    "    inst.n_classes_ = 5\n",
    "    graph = inst.define_graph()\n",
    "    assert len(graph) == 4, \\\n",
    "        \"The graph should have 4 layers; yours has {}\".format(len(graph))    \n",
    "    expected = {\n",
    "        0: 'Linear',\n",
    "        1: 'Dropout',\n",
    "        2: 'Tanh',\n",
    "        3: 'Linear'}\n",
    "    for i, label in expected.items():\n",
    "        name = graph[i].__class__.__name__\n",
    "        assert label in name, \\\n",
    "            \"The {} layer of the graph should be a {} layer; yours is {}\".format(i, label, name)\n",
    "    assert graph[1].p == dropout_prob, \\\n",
    "        \"The user's value for `dropout_prob` should be the value of `p` for the Dropout layer.\""
   ]
  },
  {
   "cell_type": "code",
   "execution_count": 80,
   "metadata": {},
   "outputs": [],
   "source": [
    "test_TorchDeepNeuralClassifier(TorchDeepNeuralClassifier)"
   ]
  },
  {
   "cell_type": "markdown",
   "metadata": {},
   "source": [
    "### Your original system [3 points]\n",
    "\n",
    "This is a simple dataset, but our focus on the 'word_disjoint' condition ensures that it's a challenging one, and there are lots of modeling strategies one might adopt. \n",
    "\n",
    "You are free to do whatever you like. We require only that your system differ in some way from those defined in the preceding questions. They don't have to be completely different, though. For example, you might want to stick with the model but represent examples differently, or the reverse.\n",
    "\n",
    "Keep in mind that, for the bake-off evaluation, the 'edge_disjoint' portions of the data are off limits. You can, though, train on the combination of the 'word_disjoint' 'train' and 'dev' portions. You are free to use different pretrained word vectors and the like. Please do not introduce additional entailment datasets into your training data, though.\n",
    "\n",
    "Please embed your code in this notebook so that we can rerun it.\n",
    "\n",
    "In the cell below, please provide a brief technical description of your original system, so that the teaching team can gain an understanding of what it does. This will help us to understand your code and analyze all the submissions to identify patterns and strategies."
   ]
  },
  {
   "cell_type": "code",
   "execution_count": 81,
   "metadata": {},
   "outputs": [],
   "source": [
    "# Enter your system description in this cell.\n",
    "# Please do not remove this comment.\n",
    "\"\"\"\n",
    "For this particular task two major directions have been identified: that of employing a MLP on a particular \n",
    "representation of the input (u,v) tuple or that of creating architectures based on siamese networks. Although the \n",
    "MLP approach seems more direct the main area that has been explored is that of simease-based architectures.\n",
    "\n",
    "The overall approach was based on three steps:\n",
    "\n",
    "(1) define the baselines - see `get_baselines` function - that have both the above mentioned simple MLP approach \n",
    "as well as logistic regression \n",
    "\n",
    "(2) prepare a overall model architecture `ThWordEntailModel` incapsulated in `WordEntailClassifier` model wrapper that \n",
    "would allow us to experiment with classic siamese networks approaches such as \"Dimensionality Reduction by Learning \n",
    "an Invariant Mapping\" or \"Siamese Neural Networks for One-shot Image Recognition\" as well as approaches based on a \n",
    "graphs architecture with two-column separate encoders and a final classification MLP backbone.\n",
    "\n",
    "(3) prepare a grid search strategy that would cycle most of the major architectures proposed by (2) - this particular \n",
    "feat is provided by `run_grid_search` function\n",
    "\n",
    "(4) run and refine the random grid search and add features and/or new approaches. Two separated grids have been defined\n",
    "anc concatenated - one for the non-contrastive-loss graphs and another for the ones based on contrastive loss\n",
    "\n",
    "(5) select best architecture and re-run the experiment\n",
    "\n",
    "Data preparation and training details:\n",
    "\n",
    "The actual training procedure was based on early stopping combined with efficient learning rate decay (that includes\n",
    "parameter/optimizer restoration). The early stopping mechanism used the proposed `dev_data`. Due to class imbalance and \n",
    "to the model tendency to favor \"not entail\", focal loss has been added in the experiment as a grid-search option vs standard\n",
    "BCE. To further test the model capabilities 4 different datasets have been extracted from the original two datasets (train \n",
    "and dev): a train dataset where all words are contained by the  pretrained GloVe, a similar dev set and a train/dev couple\n",
    "where either one or both words in each observation are not contained within the pretrained GloVe embeddings (see the\n",
    "function `test_glove_vs_data`).\n",
    "\n",
    "Due to the fact that both training and validation (as well as real-life) datasets have out-of-vocabulary words (out of the \n",
    "pretrained GloVe vocab) a \"approaximator\" function has been developed that generates word embeddings for the OOV words.\n",
    "Below we can see a few examples of word-embeddings neighbors obtained based on the generated embedding (value is cosine\n",
    "distance):\n",
    "\n",
    "replacement for 'unwrought'\n",
    "wrought        1.1327e-10\n",
    "devastation    4.6164e-01\n",
    "ironwork       4.7856e-01\n",
    "wreaked        4.8097e-01\n",
    "railings       5.1378e-01\n",
    "\n",
    "\n",
    "replacement for 'haematemesis'\n",
    "emesis                  1.3017e-10\n",
    "diaphoresis             5.0699e-01\n",
    "itraconazole            5.4648e-01\n",
    "chemotherapy-induced    5.5422e-01\n",
    "anovulation             5.5664e-01\n",
    "\n",
    "replacement for 'pyrexia'\n",
    "pyrex           9.7854e-11\n",
    "corningware     4.8760e-01\n",
    "borosilicate    5.2159e-01\n",
    "bakeware        5.2440e-01\n",
    "glassware       5.3898e-01\n",
    "\n",
    "replacement for 'cervicitis'\n",
    "cervi         1.0381e-10\n",
    "severini      5.9782e-01\n",
    "pasqualino    6.0177e-01\n",
    "kalantar      6.0200e-01\n",
    "conason       6.0281e-01\n",
    "\n",
    "replacement for 'dacryocystitis'\n",
    "cystitis          1.0738e-10\n",
    "interstitial      4.8357e-01\n",
    "pyelonephritis    5.2237e-01\n",
    "endometriosis     5.3036e-01\n",
    "bronchiolitis     5.4040e-01\n",
    "\n",
    "replacement for 'antheridium'\n",
    "anther      1.4220e-10\n",
    "stamen      5.4327e-01\n",
    "anthers     5.6385e-01\n",
    "piasters    5.9172e-01\n",
    "pistil      6.0421e-01\n",
    "\n",
    "\n",
    "\"\"\"\n",
    "\n"
   ]
  },
  {
   "cell_type": "markdown",
   "metadata": {},
   "source": [
    "## Bake-off [1 point]\n",
    "\n",
    "The goal of the bake-off is to achieve the highest macro-average F1 score on __word_disjoint__, on a test set that we will make available at the start of the bake-off. The announcement will go out on the discussion forum. To enter, you'll be asked to run `nli.bake_off_evaluation` on the output of your chosen `nli.wordentail_experiment` run. \n",
    "\n",
    "The cells below this one constitute your bake-off entry.\n",
    "\n",
    "The rules described in the [Your original system](#Your-original-system-[3-points]) homework question are also in effect for the bake-off.\n",
    "\n",
    "Systems that enter will receive the additional homework point, and systems that achieve the top score will receive an additional 0.5 points. We will test the top-performing systems ourselves, and only systems for which we can reproduce the reported results will win the extra 0.5 points.\n",
    "\n",
    "Late entries will be accepted, but they cannot earn the extra 0.5 points. Similarly, you cannot win the bake-off unless your homework is submitted on time.\n",
    "\n",
    "The announcement will include the details on where to submit your entry."
   ]
  },
  {
   "cell_type": "code",
   "execution_count": null,
   "metadata": {},
   "outputs": [],
   "source": [
    "# Enter your bake-off assessment code into this cell. \n",
    "# Please do not remove this comment.\n",
    "##### YOUR CODE HERE\n",
    "\n",
    "\n"
   ]
  },
  {
   "cell_type": "code",
   "execution_count": null,
   "metadata": {},
   "outputs": [],
   "source": [
    "# On an otherwise blank line in this cell, please enter\n",
    "# your macro-avg f1 value as reported by the code above. \n",
    "# Please enter only a number between 0 and 1 inclusive.\n",
    "# Please do not remove this comment.\n",
    "\n",
    "##### YOUR CODE HERE\n",
    "\n",
    "\n"
   ]
  }
 ],
 "metadata": {
  "kernelspec": {
   "display_name": "Python 3",
   "language": "python",
   "name": "python3"
  },
  "language_info": {
   "codemirror_mode": {
    "name": "ipython",
    "version": 3
   },
   "file_extension": ".py",
   "mimetype": "text/x-python",
   "name": "python",
   "nbconvert_exporter": "python",
   "pygments_lexer": "ipython3",
   "version": "3.7.4"
  }
 },
 "nbformat": 4,
 "nbformat_minor": 1
}
